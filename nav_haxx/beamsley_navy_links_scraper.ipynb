{
 "cells": [
  {
   "cell_type": "markdown",
   "id": "cbeead10",
   "metadata": {},
   "source": [
    "### Purpose ###\n",
    "\n",
    "A link-scraping tool for the one site every Navy Reservist needs to visit (unless they've memorized and/or bookmarked all 345,986 sites required to stay \"administratively ready\"), but wants to avoid falling into what is most likely the most ingenious place for an adversary 'watering hole' attack..."
   ]
  },
  {
   "cell_type": "code",
   "execution_count": 2,
   "id": "5ad9948e",
   "metadata": {},
   "outputs": [],
   "source": [
    "import requests\n",
    "from bs4 import BeautifulSoup\n",
    "import pandas as pd\n",
    "from datetime import datetime\n",
    "import os"
   ]
  },
  {
   "cell_type": "code",
   "execution_count": null,
   "id": "43872048",
   "metadata": {},
   "outputs": [],
   "source": [
    "# The link we all have to use if we ever want to reach retirement:\n",
    "url = \"https://www.kellybeamsley.com/navy/\"\n",
    "\n",
    "headers = {\n",
    "    \"User-Agent\": (\n",
    "        \"Mozilla/5.0 (Windows NT 10.0; Win64; x64) \"\n",
    "        \"AppleWebKit/537.36 (KHTML, like Gecko) \"\n",
    "        \"Chrome/114.0.0.0 Safari/537.36\"\n",
    "    )\n",
    "}\n",
    "\n",
    "response = requests.get(url, headers=headers)\n",
    "response.raise_for_status()\n",
    "\n",
    "soup = BeautifulSoup(response.text, 'html.parser')\n",
    "\n",
    "link_elements = soup.find_all('a', href=True)\n",
    "\n",
    "links_data = []\n",
    "for link in link_elements:\n",
    "    href = link['href'].strip()\n",
    "    text = link.get_text(strip=True)\n",
    "\n",
    "    # Skip if link is empty or text is empty\n",
    "    if not href or not text:\n",
    "        continue\n",
    "\n",
    "    # Resolve relative links\n",
    "    full_url = href if href.startswith('http') else requests.compat.urljoin(url, href)\n",
    "\n",
    "    # Filter out internal links\n",
    "    if full_url.startswith(\"https://www.kellybeamsley.com/\"):\n",
    "        continue\n",
    "\n",
    "    links_data.append({'Link Text': text, 'URL': full_url})\n",
    "\n",
    "df_links = pd.DataFrame(links_data)\n",
    "df_links.to_csv('kellybeamsley_external_links.csv', index=False)\n",
    "\n",
    "print(df_links.shape)\n",
    "df_links.head()"
   ]
  },
  {
   "cell_type": "code",
   "execution_count": null,
   "id": "7f5fbbd6",
   "metadata": {},
   "outputs": [],
   "source": [
    "df_links.tail(50)"
   ]
  },
  {
   "cell_type": "code",
   "execution_count": null,
   "id": "e0aed353",
   "metadata": {},
   "outputs": [],
   "source": [
    "print(f\"File saved to: {filename}\")"
   ]
  },
  {
   "cell_type": "code",
   "execution_count": null,
   "id": "6db0a53e",
   "metadata": {},
   "outputs": [],
   "source": []
  },
  {
   "cell_type": "code",
   "execution_count": null,
   "id": "1c29d701",
   "metadata": {},
   "outputs": [],
   "source": []
  },
  {
   "cell_type": "code",
   "execution_count": null,
   "id": "5fc22cde",
   "metadata": {},
   "outputs": [],
   "source": []
  },
  {
   "cell_type": "code",
   "execution_count": 3,
   "id": "b27fa9a6",
   "metadata": {},
   "outputs": [],
   "source": []
  }
 ],
 "metadata": {
  "kernelspec": {
   "display_name": "Python 3 (ipykernel)",
   "language": "python",
   "name": "python3"
  },
  "language_info": {
   "codemirror_mode": {
    "name": "ipython",
    "version": 3
   },
   "file_extension": ".py",
   "mimetype": "text/x-python",
   "name": "python",
   "nbconvert_exporter": "python",
   "pygments_lexer": "ipython3",
   "version": "3.11.5"
  }
 },
 "nbformat": 4,
 "nbformat_minor": 5
}
