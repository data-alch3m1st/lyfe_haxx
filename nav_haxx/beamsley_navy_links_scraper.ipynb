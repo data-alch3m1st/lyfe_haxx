{
 "cells": [
  {
   "cell_type": "markdown",
   "id": "50465c66",
   "metadata": {},
   "source": [
    "### Purpose ###\n",
    "\n",
    "A link-scraping tool for the one site every Navy Reservist needs to visit (unless they've memorized and/or bookmarked all 345,986 sites required to stay \"administratively ready\"), but wants to avoid falling into what is most likely the most ingenious place for an adversary 'watering hole' attack..."
   ]
  },
  {
   "cell_type": "code",
   "execution_count": 4,
   "id": "45fc0f6d",
   "metadata": {},
   "outputs": [],
   "source": [
    "import requests\n",
    "from bs4 import BeautifulSoup\n",
    "import pandas as pd\n",
    "from datetime import datetime\n",
    "import os"
   ]
  },
  {
   "cell_type": "code",
   "execution_count": 5,
   "id": "e623d11c",
   "metadata": {},
   "outputs": [
    {
     "name": "stdout",
     "output_type": "stream",
     "text": [
      "Total External Links as of 2025-10-16: 2905\n",
      "File saved to: ./output/kellybeamsley_external_links_20251016.csv\n"
     ]
    }
   ],
   "source": [
    "import requests\n",
    "from bs4 import BeautifulSoup\n",
    "import pandas as pd\n",
    "from datetime import datetime\n",
    "import os\n",
    "\n",
    "url = \"https://www.kellybeamsley.com/navy/\"\n",
    "\n",
    "headers = {\n",
    "    \"User-Agent\": (\n",
    "        \"Mozilla/5.0 (Windows NT 10.0; Win64; x64) \"\n",
    "        \"AppleWebKit/537.36 (KHTML, like Gecko) \"\n",
    "        \"Chrome/114.0.0.0 Safari/537.36\"\n",
    "    )\n",
    "}\n",
    "\n",
    "response = requests.get(url, headers=headers)\n",
    "response.raise_for_status()\n",
    "\n",
    "soup = BeautifulSoup(response.text, 'html.parser')\n",
    "link_elements = soup.find_all('a', href=True)\n",
    "\n",
    "links_data = []\n",
    "for link in link_elements:\n",
    "    href = link['href'].strip()\n",
    "    text = link.get_text(strip=True)\n",
    "    if not href or not text:\n",
    "        continue\n",
    "\n",
    "    full_url = href if href.startswith('http') else requests.compat.urljoin(url, href)\n",
    "\n",
    "    # Skip internal links\n",
    "    if full_url.startswith(\"https://www.kellybeamsley.com/\"):\n",
    "        continue\n",
    "\n",
    "    links_data.append({'Link Text': text, 'URL': full_url})\n",
    "\n",
    "df_links = pd.DataFrame(links_data)\n",
    "\n",
    "# Ensure output directory exists\n",
    "output_folder = \"./output\"\n",
    "os.makedirs(output_folder, exist_ok=True)\n",
    "\n",
    "# Append today's date to the filename\n",
    "today_str = datetime.now().strftime(\"%Y%m%d\")\n",
    "filename = os.path.join(output_folder, f\"kellybeamsley_external_links_{today_str}.csv\")\n",
    "\n",
    "# Save DataFrame to CSV\n",
    "df_links.to_csv(filename, index=False)\n",
    "\n",
    "# Use df_links.shape to output total external links (as of todays date ~ YYYYMMDD)\n",
    "print(f\"Total External Links as of {today_str[:4]}-{today_str[4:6]}-{today_str[6:8]}: {df_links.shape[0]}\")\n",
    "print(f\"File saved to: {filename}\")"
   ]
  },
  {
   "cell_type": "code",
   "execution_count": null,
   "id": "c9136658",
   "metadata": {},
   "outputs": [],
   "source": [
    "df_links.tail(50)"
   ]
  },
  {
   "cell_type": "code",
   "execution_count": null,
   "id": "bee7083f",
   "metadata": {},
   "outputs": [],
   "source": []
  },
  {
   "cell_type": "code",
   "execution_count": null,
   "id": "2696d87a",
   "metadata": {},
   "outputs": [],
   "source": []
  },
  {
   "cell_type": "code",
   "execution_count": null,
   "id": "760f0642",
   "metadata": {},
   "outputs": [],
   "source": []
  },
  {
   "cell_type": "code",
   "execution_count": null,
   "id": "6a990bbc",
   "metadata": {},
   "outputs": [],
   "source": []
  },
  {
   "cell_type": "code",
   "execution_count": 3,
   "id": "0bd4859b",
   "metadata": {},
   "outputs": [],
   "source": []
  }
 ],
 "metadata": {
  "kernelspec": {
   "display_name": "Python 3 (ipykernel)",
   "language": "python",
   "name": "python3"
  },
  "language_info": {
   "codemirror_mode": {
    "name": "ipython",
    "version": 3
   },
   "file_extension": ".py",
   "mimetype": "text/x-python",
   "name": "python",
   "nbconvert_exporter": "python",
   "pygments_lexer": "ipython3",
   "version": "3.11.5"
  }
 },
 "nbformat": 4,
 "nbformat_minor": 5
}
